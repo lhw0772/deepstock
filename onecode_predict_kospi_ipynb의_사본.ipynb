{
  "nbformat": 4,
  "nbformat_minor": 0,
  "metadata": {
    "colab": {
      "name": "onecode_predict_kospi.ipynb의 사본",
      "provenance": [],
      "collapsed_sections": [],
      "mount_file_id": "1ZBhatHgmZEWN6GbMf0BfPV5THxKAF7Ez",
      "authorship_tag": "ABX9TyPgiFywJX8vzQyamE1XfczW",
      "include_colab_link": true
    },
    "kernelspec": {
      "name": "python3",
      "display_name": "Python 3"
    },
    "accelerator": "TPU"
  },
  "cells": [
    {
      "cell_type": "markdown",
      "metadata": {
        "id": "view-in-github",
        "colab_type": "text"
      },
      "source": [
        "<a href=\"https://colab.research.google.com/github/lhw0772/deepstock/blob/master/onecode_predict_kospi_ipynb%EC%9D%98_%EC%82%AC%EB%B3%B8.ipynb\" target=\"_parent\"><img src=\"https://colab.research.google.com/assets/colab-badge.svg\" alt=\"Open In Colab\"/></a>"
      ]
    },
    {
      "cell_type": "markdown",
      "metadata": {
        "id": "Jl3_DUgr1mjM",
        "colab_type": "text"
      },
      "source": [
        "1. 유틸 로드\n",
        "\n",
        "ctrl +F5 : 구글드라이브 마운트\n",
        "ctrl +F9 : 모든 코드 실행"
      ]
    },
    {
      "cell_type": "markdown",
      "metadata": {
        "id": "_vuSi9oR54Kb",
        "colab_type": "text"
      },
      "source": [
        "2. 데이터 저장 / 읽기\n"
      ]
    },
    {
      "cell_type": "code",
      "metadata": {
        "id": "KsgPuiIw011f",
        "colab_type": "code",
        "colab": {}
      },
      "source": [
        "from sklearn import preprocessing \n",
        "import pandas as pd\n",
        "import io\n",
        "import os\n",
        "import datetime\n",
        "import pandas_datareader as pdr\n",
        "import numpy as np\n",
        "import matplotlib.pyplot as plt \n",
        "\n",
        "DEBUG = 1\n",
        "\n",
        "KOSPI_LIST_FILE= 'drive/My Drive/kospi/data/kospi_list.csv'\n",
        "KOSPI_DATA_ROOT= 'drive/My Drive/kospi/data/'\n",
        "\n",
        "TRAIN_START=datetime.datetime(2015, 1, 1)\n",
        "TRAIN_END=datetime.datetime(2018, 12, 31)\n",
        "\n",
        "TEST_START=datetime.datetime(2019, 1, 1)\n",
        "TEST_END=datetime.datetime(2020, 1, 1)\n",
        "\n",
        "def get_stock_hist(code,start,end):\n",
        "\n",
        "  if(DEBUG):\n",
        "    print (code)\n",
        "  try :\n",
        "    info = pdr.get_data_yahoo(code, \n",
        "                          start=start, \n",
        "                          end=end)\n",
        "  except:\n",
        "    if(DEBUG):\n",
        "      print('no data, skip')\n",
        "    df_empty = pd.DataFrame({'A' : []})\n",
        "    return df_empty\n",
        "\n",
        "  return info\n",
        "\n",
        "def save_preproc_kospi(kospi_list,_start,_end,_period,_filename):\n",
        "  start = _start\n",
        "  end = _end\n",
        "  period = _period\n",
        "  min_max_scaler = preprocessing.MinMaxScaler()\n",
        "\n",
        "  train_x =[]\n",
        "  train_y =[]\n",
        "\n",
        "  valid_x =[]\n",
        "  valid_y =[]\n",
        "\n",
        "  test_x =[]\n",
        "  test_y =[]\n",
        "\n",
        "  code_cnt = 0\n",
        "  total_code_num = len(kospi_list)\n",
        "\n",
        "  for code in kospi_list:\n",
        "\n",
        "    print (str(code_cnt)+\"/\"+str(total_code_num))\n",
        "  \n",
        "    if(code.isdigit() == True):\n",
        "\n",
        "      hist=get_stock_hist(code+'.KS',start,end)\n",
        "\n",
        "      if(hist.empty):\n",
        "        continue\n",
        "\n",
        "      total_len=len(hist)\n",
        "      start_idx =0\n",
        "      end_idx =start_idx+period+1\n",
        "\n",
        "      code_cnt +=1 \n",
        "\n",
        "      while end_idx < total_len:\n",
        "        split_data=hist[start_idx:end_idx] ## start_idx ~ end_idx  # 0~30 \n",
        "        feature = split_data.iloc[:,4:6] ## adj_close, volume\n",
        "        scaled_feature = min_max_scaler.fit_transform(feature)\n",
        "        label = scaled_feature[30][1] - scaled_feature[29][1]\n",
        "\n",
        "        if(DEBUG>1 and end_idx ==31):\n",
        "          plt.plot(scaled_feature)\n",
        "          plt.show()\n",
        "\n",
        "        if(label >0):\n",
        "          label = 1\n",
        "        else:\n",
        "          label = 0\n",
        "\n",
        "        start_idx +=1\n",
        "        end_idx +=1\n",
        "\n",
        "        train_x.append(scaled_feature[:-1])\n",
        "        train_y.append(label)\n",
        "\n",
        "  train_x = np.array(train_x)\n",
        "  train_y = np.array(train_y)\n",
        "\n",
        "  print (train_x.shape)\n",
        "  print (train_y.shape)\n",
        "\n",
        "  np.save(_filename+\"_x\",train_x)\n",
        "  np.save(_filename+\"_y\",train_y)\n",
        "\n",
        "def make_data(period,d_name):\n",
        "\n",
        "  kospi_list = pd.read_csv(KOSPI_LIST_FILE,error_bad_lines=False)['종목코드']\n",
        "  print ('training data making')\n",
        "  period = period\n",
        "\n",
        "  folder_path = os.path.join(KOSPI_DATA_ROOT,d_name)\n",
        "\n",
        "  if(os.path.exists(folder_path)==False):\n",
        "    os.mkdir(folder_path)\n",
        "\n",
        "  save_preproc_kospi(kospi_list,TRAIN_START,TRAIN_END,period,os.path.join(folder_path,'train'))\n",
        "\n",
        "  print ('testing data making')\n",
        "  period = period\n",
        "  save_preproc_kospi(kospi_list,TEST_START,TEST_END,period,os.path.join(folder_path,'test'))\n",
        "\n",
        "\n",
        "def load_data(d_name):\n",
        "\n",
        "  folder_path = os.path.join(KOSPI_DATA_ROOT,d_name)\n",
        "\n",
        "  kospi_train_x = np.load(os.path.join(folder_path,'train_x.npy'))\n",
        "  kospi_train_y = np.load(os.path.join(folder_path,'train_y.npy'))\n",
        "\n",
        "  kospi_test_x = np.load(os.path.join(folder_path,'test_x.npy'))\n",
        "  kospi_test_y = np.load(os.path.join(folder_path,'test_y.npy'))\n",
        "\n",
        "  kospi_train_y=to_categorical(kospi_train_y)\n",
        "  kospi_test_y=to_categorical(kospi_test_y)\n",
        "\n",
        "\n",
        "  return [kospi_train_x,kospi_train_y,kospi_test_x,kospi_test_y]\n",
        "\n"
      ],
      "execution_count": 0,
      "outputs": []
    },
    {
      "cell_type": "markdown",
      "metadata": {
        "id": "STiIn7dJ-DWz",
        "colab_type": "text"
      },
      "source": [
        "3. 모델 로드\n"
      ]
    },
    {
      "cell_type": "code",
      "metadata": {
        "id": "Q-54Sbfg-Gph",
        "colab_type": "code",
        "colab": {
          "base_uri": "https://localhost:8080/",
          "height": 83
        },
        "outputId": "bdfd2cd5-28a6-4029-9055-ef7acb48a429"
      },
      "source": [
        "from keras.layers import Input\n",
        "from keras.layers import Dense\n",
        "from keras.layers import LSTM\n",
        "from keras.layers import Dropout\n",
        "from keras.models import Model\n",
        "from keras.utils import to_categorical\n",
        "from keras.callbacks import ModelCheckpoint\n",
        "import numpy as np\n",
        "import os\n",
        "from keras.models import model_from_json\n",
        "\n",
        "KOSPI_MODEL_ROOT= 'drive/My Drive/kospi/model'\n",
        "\n",
        "def save_model_arch(model,model_name):\n",
        "  model_json = model.to_json()\n",
        "  with open(model_name, \"w\") as json_file : \n",
        "    json_file.write(model_json)\n",
        "\n",
        "def create_lstm_v1():\n",
        "  inputs = Input(shape=(30,2))\n",
        "  lstm1 = LSTM(units=50, return_sequences=True)(inputs)\n",
        "  dropout1 = Dropout(0.2)(lstm1)\n",
        "  lstm2 = LSTM(units=50, return_sequences=True)(dropout1)\n",
        "  dropout2 = Dropout(0.2)(lstm2)\n",
        "  lstm3 = LSTM(units=50)(dropout2)\n",
        "  dropout3 = Dropout(0.2)(lstm3)\n",
        "  softmax = Dense(units=2,activation='softmax')(dropout3)\n",
        "\n",
        "  model = Model(inputs=inputs, outputs=softmax)\n",
        "\n",
        "  model.compile(optimizer = 'adam', loss = 'binary_crossentropy', \n",
        "  metrics=['accuracy'])\n",
        "\n",
        "  return model\n",
        "\n",
        "def make_model(model_name):\n",
        "    if model_name == 'm1':\n",
        "      model=create_lstm_v1()\n",
        "      folder_path= os.path.join(KOSPI_MODEL_ROOT,model_name)\n",
        "\n",
        "      if(os.path.exists(folder_path)==False):\n",
        "        os.mkdir(folder_path)\n",
        "      save_model_arch(model,os.path.join(folder_path,model_name+\".json\"))\n",
        "\n",
        "def load_model_arch(model_name):\n",
        "  real_path=os.path.join(KOSPI_MODEL_ROOT,model_name,model_name+\".json\")\n",
        "  json_file = open(real_path)\n",
        "  loaded_model_json=json_file.read()\n",
        "  json_file.close()\n",
        "  loaded_model = model_from_json(loaded_model_json)\n",
        "\n",
        "  loaded_model.compile(optimizer = 'adam', loss = 'binary_crossentropy', \n",
        "  metrics=['accuracy'])\n",
        "  return loaded_model\n",
        "\n",
        "def load_model_ckpt (nodel_arch,model_name,_epoch):\n",
        "  ckpt = os.path.join(KOSPI_MODEL_ROOT,model_name,'model-{epoch:04d}.h5')\n",
        "  nodel_arch.load_weights(ckpt.format(epoch=_epoch),by_name=True)\n",
        "  return nodel_arch\n",
        "\n",
        "\n",
        "#make_model('m1')\n",
        "#model = load_model_arch('m1')\n",
        "\n"
      ],
      "execution_count": 3,
      "outputs": [
        {
          "output_type": "stream",
          "text": [
            "Using TensorFlow backend.\n"
          ],
          "name": "stderr"
        },
        {
          "output_type": "display_data",
          "data": {
            "text/html": [
              "<p style=\"color: red;\">\n",
              "The default version of TensorFlow in Colab will soon switch to TensorFlow 2.x.<br>\n",
              "We recommend you <a href=\"https://www.tensorflow.org/guide/migrate\" target=\"_blank\">upgrade</a> now \n",
              "or ensure your notebook will continue to use TensorFlow 1.x via the <code>%tensorflow_version 1.x</code> magic:\n",
              "<a href=\"https://colab.research.google.com/notebooks/tensorflow_version.ipynb\" target=\"_blank\">more info</a>.</p>\n"
            ],
            "text/plain": [
              "<IPython.core.display.HTML object>"
            ]
          },
          "metadata": {
            "tags": []
          }
        }
      ]
    },
    {
      "cell_type": "markdown",
      "metadata": {
        "id": "JUiiQ_vMM4Rr",
        "colab_type": "text"
      },
      "source": [
        "4. 학습"
      ]
    },
    {
      "cell_type": "code",
      "metadata": {
        "id": "0fWnYyZKM3rU",
        "colab_type": "code",
        "colab": {}
      },
      "source": [
        "\n",
        "KOSPI_MODEL_ROOT= 'drive/My Drive/kospi/model'\n",
        "\n",
        "\n",
        "def train_model(ckpt_model_name,model,data,epoch,batch_size,initial_epoch):\n",
        "  \n",
        "  ckpt_path = os.path.join(KOSPI_MODEL_ROOT,ckpt_model_name,'model-{epoch:04d}.h5')\n",
        "\n",
        "  cp_callback = ModelCheckpoint(\n",
        "    ckpt_path, verbose=1, save_weights_only=True,\n",
        "    period=1)\n",
        "\n",
        "  hist = model.fit(data[0],data[1],batch_size=batch_size,\n",
        "                   validation_split=0.3, \n",
        "                   epochs=epoch,\n",
        "                   initial_epoch=initial_epoch,\n",
        "                   callbacks = [cp_callback],validation_freq=1)\n",
        "  \n",
        "  return hist"
      ],
      "execution_count": 0,
      "outputs": []
    },
    {
      "cell_type": "markdown",
      "metadata": {
        "id": "eBp039m3QAZL",
        "colab_type": "text"
      },
      "source": [
        "5.분석\n"
      ]
    },
    {
      "cell_type": "code",
      "metadata": {
        "id": "LjoJnmIBQDHk",
        "colab_type": "code",
        "colab": {}
      },
      "source": [
        "def disp_hist(hist):\n",
        "  fig, loss_ax = plt.subplots()\n",
        "  acc_ax = loss_ax.twinx()\n",
        "\n",
        "  loss_ax.plot(hist.history['loss'], 'y', label='train loss')\n",
        "  loss_ax.plot(hist.history['val_loss'], 'r', label='val loss')\n",
        "  loss_ax.set_xlabel('epoch')\n",
        "  loss_ax.set_ylabel('loss')\n",
        "  loss_ax.legend(loc='upper left')\n",
        "\n",
        "  acc_ax.plot(hist.history['acc'], 'b', label='train acc')\n",
        "  acc_ax.plot(hist.history['val_acc'], 'g', label='val acc')\n",
        "  acc_ax.set_ylabel('accuracy')\n",
        "  acc_ax.legend(loc='upper left')\n",
        "\n",
        "plt.show()\n",
        "\n",
        "from sklearn.metrics import roc_curve\n",
        "from sklearn.metrics import roc_auc_score\n",
        "from matplotlib import pyplot\n",
        "from sklearn.metrics import precision_recall_curve\n",
        "from sklearn.metrics import f1_score\n",
        "from sklearn.metrics import auc\n",
        "\n",
        "KOSPI_MODEL_ROOT= 'drive/My Drive/kospi/model'\n",
        "\n",
        "def draw_pr_curve(model_name,test_x,test_y,_epoch,th):\n",
        "\n",
        "    test_x=test_x[:,:,:]\n",
        "    test_y=test_y[:]\n",
        "\n",
        "    model=load_model_arch(model_name)\n",
        "    model=load_model_ckpt(model,model_name,_epoch)\n",
        "\n",
        "    predict = model.predict(test_x)\n",
        "    y_scores=predict[:,1]\n",
        "    y_true=test_y[:,1]\n",
        "    precision, recall, thresholds = precision_recall_curve(y_true, y_scores)\n",
        "\n",
        "    plt.plot(recall, precision, label='Precision-Recall curve')\n",
        "    plt.xlabel('Recall')\n",
        "    plt.ylabel('Precision')\n",
        "    plt.ylim([0.0, 1.05])\n",
        "    plt.xlim([0.0, 1.0])\n",
        "    plt.legend(loc=\"lower left\")\n",
        "    plt.show()\n",
        "\n",
        "    idx= np.where(recall<th)[0][0]\n",
        "\n",
        "    print('precision')\n",
        "    print (precision[idx])\n",
        "    print ('recall')\n",
        "    print (recall[idx])\n",
        "    print ('threhold')\n",
        "    print (thresholds[idx])\n",
        "\n",
        "    return precision[idx],recall[idx],thresholds[idx]\n",
        "\n",
        "\n",
        "\n",
        "#draw_pr_curve('m1',data[2],data[3],1,0.1)"
      ],
      "execution_count": 0,
      "outputs": []
    },
    {
      "cell_type": "markdown",
      "metadata": {
        "id": "p2eqrHz0Yo6Y",
        "colab_type": "text"
      },
      "source": [
        "6. 백테스팅"
      ]
    },
    {
      "cell_type": "code",
      "metadata": {
        "id": "lrXOlYxAYuuC",
        "colab_type": "code",
        "colab": {
          "base_uri": "https://localhost:8080/",
          "height": 406
        },
        "outputId": "30891746-fea9-4b71-c777-7edf045e5f2c"
      },
      "source": [
        "data=load_data('d1')\n",
        "#draw_pr_curve('m1',data[2],data[3],1,0.1)\n",
        "draw_pr_curve('m1',data[2],data[3],2,0.3)"
      ],
      "execution_count": 25,
      "outputs": [
        {
          "output_type": "display_data",
          "data": {
            "image/png": "[encoded data removed]",
            "text/plain": [
              "<Figure size 432x288 with 1 Axes>"
            ]
          },
          "metadata": {
            "tags": []
          }
        },
        {
          "output_type": "stream",
          "text": [
            "precision\n",
            "0.8237094024566158\n",
            "recall\n",
            "0.2999872643912379\n",
            "threhold\n",
            "0.5532613\n"
          ],
          "name": "stdout"
        },
        {
          "output_type": "execute_result",
          "data": {
            "text/plain": [
              "(0.8237094024566158, 0.2999872643912379, 0.5532613)"
            ]
          },
          "metadata": {
            "tags": []
          },
          "execution_count": 25
        }
      ]
    },
    {
      "cell_type": "code",
      "metadata": {
        "id": "RkpYtL-6z1ht",
        "colab_type": "code",
        "colab": {
          "base_uri": "https://localhost:8080/",
          "height": 54
        },
        "outputId": "ef2bf75d-73e3-47cc-f703-458354ebd396"
      },
      "source": [
        "\n",
        "# model loaded\n",
        "model=load_model_arch('m1')\n",
        "model=load_model_ckpt(model,'m1',2)\n",
        "opt_th = 0.9\n",
        "\n",
        "def get_stock_hist_exact(code,start,end):\n",
        "  try :\n",
        "    info = pdr.get_data_yahoo(code, \n",
        "                        start=start, \n",
        "                        end=end)\n",
        "  except:\n",
        "    df_empty = pd.DataFrame({'A' : []})\n",
        "    return df_empty\n",
        "\n",
        "  info = info.loc[start:end]\n",
        "  return info\n",
        "\n",
        "def is_dayoff(day):\n",
        "\n",
        "  holidays=['2019-12-25','2019-12-31','2020-01-01','2020-01-24','2020-01-27']\n",
        "  \n",
        "  if((day.weekday()==5) or (day.weekday()==6) or (day.strftime('%Y-%m-%d') in holidays)):\n",
        "    return True\n",
        "  else:\n",
        "    #print (day,day in holidays)\n",
        "    return False\n",
        "\n",
        "def is_buy(model,th,code,start,end): # code, (30,2) feature\n",
        "   hist = get_stock_hist_exact(code,start,end)\n",
        "\n",
        "   if(hist.empty):\n",
        "    return 0,0\n",
        "   #print (hist)\n",
        "   #print (code)\n",
        "   feature = hist.iloc[:-1,4:6]\n",
        "   if(feature.shape[0]!=30):\n",
        "     return 0,0\n",
        "\n",
        "   min_max_scaler = preprocessing.MinMaxScaler()\n",
        "   scaled_feature = min_max_scaler.fit_transform(feature)\n",
        "\n",
        "   scaled_feature= np.array([scaled_feature])\n",
        "   pred=get_result(model,scaled_feature,th)\n",
        "\n",
        "   cur_val = hist.iloc[-2,5]\n",
        "   future_val = hist.iloc[-1,5]\n",
        "\n",
        "   profit = (future_val-cur_val)\n",
        "\n",
        "   return pred,profit\n",
        "\n",
        "def get_result(model,scaled_feature,th):\n",
        "  result = model.predict(scaled_feature, verbose=0)\n",
        "  result = result > th\n",
        "  pred = result[0,1]\n",
        "\n",
        "  return pred\n",
        "\n",
        "def back_test_onecode(code,start_datetime,end_datetime,model,th):\n",
        "  acc_val = 0\n",
        "  correct = 0\n",
        "  buy_cnt =0\n",
        "  win_ratio= 0\n",
        "\n",
        "  while(True):\n",
        "  \n",
        "    while(is_dayoff(start_datetime)):\n",
        "      start_datetime += datetime.timedelta(days=1)\n",
        "      \n",
        "    while(is_dayoff(end_datetime)):\n",
        "      end_datetime += datetime.timedelta(days=1)\n",
        "\n",
        "    print (str(start_datetime) +\"~\"+str(end_datetime))\n",
        "    buy,val=is_buy(model,th,code,start_datetime,end_datetime)\n",
        "\n",
        "    if(buy):\n",
        "      acc_val+=val\n",
        "      buy_cnt+=1\n",
        "      if(val>0):\n",
        "        correct+=1\n",
        "        win_ratio= (correct/buy_cnt)\n",
        "\n",
        "\n",
        "    print (buy,val,acc_val,win_ratio)\n",
        "\n",
        "    start_datetime += datetime.timedelta(days=1)\n",
        "    end_datetime += datetime.timedelta(days=1)\n",
        "\n",
        "def back_test_multicode(list,start_datetime,end_datetime,model,th):\n",
        "    #just test one day\n",
        "\n",
        "  acc_val = 0\n",
        "  correct = 0\n",
        "  buy_cnt =0\n",
        "  win_ratio= 0\n",
        "\n",
        "  while(True):\n",
        "  \n",
        "    while(is_dayoff(start_datetime)):\n",
        "      start_datetime += datetime.timedelta(days=1)\n",
        "      \n",
        "    while(is_dayoff(end_datetime)):\n",
        "      end_datetime += datetime.timedelta(days=1)\n",
        "\n",
        "    print (str(start_datetime) +\"~\"+str(end_datetime))\n",
        "\n",
        "    for code in kospi_list:\n",
        "      # if(cnt<59):\n",
        "      #   cnt+=1\n",
        "      #   continue\n",
        "      buy,val=is_buy(model,th,code+\".KS\",start_datetime,end_datetime)\n",
        "\n",
        "      if(buy):\n",
        "        print ('buy!')\n",
        "        print (code,val)\n",
        "        acc_val+=val\n",
        "\n",
        "        buy_cnt+=1\n",
        "        if(val>0):\n",
        "          correct+=1\n",
        "          win_ratio= (correct/buy_cnt)\n",
        "        \n",
        "    \n",
        "    print (acc_val,win_ratio)\n",
        "    start_datetime += datetime.timedelta(days=1)\n",
        "    end_datetime += datetime.timedelta(days=1)\n",
        "\n",
        "\n",
        "start_year= 2019\n",
        "start_month=11\n",
        "start_day=18\n",
        "\n",
        "end_year=2020\n",
        "end_month=1\n",
        "end_day=2\n",
        "\n",
        "ss = datetime.datetime(start_year, start_month, start_day)\n",
        "se = datetime.datetime(end_year, end_month, end_day)\n",
        "kospi_list = pd.read_csv(KOSPI_LIST_FILE,error_bad_lines=False)['종목코드']\n",
        "\n",
        "back_test_multicode(kospi_list,ss,se,model,opt_th)\n",
        "#back_test_onecode('079160.KS',ss,se,model,opt_th)\n"
      ],
      "execution_count": 0,
      "outputs": [
        {
          "output_type": "stream",
          "text": [
            "b'Skipping line 442: expected 12 fields, saw 13\\n'\n"
          ],
          "name": "stderr"
        },
        {
          "output_type": "stream",
          "text": [
            "2019-11-18 00:00:00~2020-01-02 00:00:00\n"
          ],
          "name": "stdout"
        }
      ]
    }
  ]
}